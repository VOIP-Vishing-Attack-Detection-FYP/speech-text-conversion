{
 "cells": [
  {
   "cell_type": "code",
   "execution_count": 3,
   "metadata": {},
   "outputs": [
    {
     "name": "stdout",
     "output_type": "stream",
     "text": [
      "Collecting qrcode\n",
      "  Downloading qrcode-8.0-py3-none-any.whl.metadata (17 kB)\n",
      "Requirement already satisfied: colorama in c:\\users\\dell\\anaconda3\\envs\\ai-backend\\lib\\site-packages (from qrcode) (0.4.6)\n",
      "Downloading qrcode-8.0-py3-none-any.whl (45 kB)\n",
      "   ---------------------------------------- 0.0/45.7 kB ? eta -:--:--\n",
      "   -------- ------------------------------- 10.2/45.7 kB ? eta -:--:--\n",
      "   -------- ------------------------------- 10.2/45.7 kB ? eta -:--:--\n",
      "   ----------------- ---------------------- 20.5/45.7 kB 165.2 kB/s eta 0:00:01\n",
      "   -------------------------- ------------- 30.7/45.7 kB 163.8 kB/s eta 0:00:01\n",
      "   ----------------------------------- ---- 41.0/45.7 kB 179.6 kB/s eta 0:00:01\n",
      "   ---------------------------------------- 45.7/45.7 kB 162.7 kB/s eta 0:00:00\n",
      "Installing collected packages: qrcode\n",
      "Successfully installed qrcode-8.0\n"
     ]
    }
   ],
   "source": [
    "!pip install qrcode"
   ]
  },
  {
   "cell_type": "code",
   "execution_count": 11,
   "metadata": {},
   "outputs": [],
   "source": [
    "import qrcode\n",
    "from PIL import Image,ImageDraw"
   ]
  },
  {
   "cell_type": "code",
   "execution_count": 7,
   "metadata": {},
   "outputs": [],
   "source": [
    "# Function to generate a QR code with a logo\n",
    "def generate_qr_with_logo(data, logo_path, output_path, qr_size=290, logo_size_ratio=0.25):\n",
    "    # Create QR code\n",
    "    qr = qrcode.QRCode(\n",
    "        version=1,  # Adjust version for more data (1 is for small QR codes)\n",
    "        error_correction=qrcode.constants.ERROR_CORRECT_H,  # High error correction for logo overlay\n",
    "        box_size=10,\n",
    "        border=4\n",
    "    )\n",
    "    qr.add_data(data)\n",
    "    qr.make(fit=True)\n",
    "\n",
    "    # Generate the QR code image\n",
    "    qr_img = qr.make_image(fill_color=\"black\", back_color=\"white\").convert(\"RGB\")\n",
    "\n",
    "    # Add the logo\n",
    "    if logo_path:\n",
    "        logo = Image.open(logo_path)\n",
    "\n",
    "        # Calculate logo size\n",
    "        logo_size = int(qr_size * logo_size_ratio)\n",
    "        # logo = logo.resize((logo_size, logo_size), Image.ANTIALIAS)\n",
    "        logo = logo.resize((logo_size, logo_size), Image.Resampling.LANCZOS)\n",
    "\n",
    "\n",
    "        # Center the logo in the QR code\n",
    "        qr_width, qr_height = qr_img.size\n",
    "        x_offset = (qr_width - logo_size) // 2\n",
    "        y_offset = (qr_height - logo_size) // 2\n",
    "\n",
    "        # Paste the logo on the QR code\n",
    "        qr_img.paste(logo, (x_offset, y_offset), mask=logo if logo.mode == \"RGBA\" else None)\n",
    "\n",
    "    # Save the resulting QR code\n",
    "    qr_img.save(output_path)\n",
    "\n",
    "\n"
   ]
  },
  {
   "cell_type": "code",
   "execution_count": 8,
   "metadata": {},
   "outputs": [
    {
     "name": "stdout",
     "output_type": "stream",
     "text": [
      "QR code with logo saved to qr_with_logo.png\n"
     ]
    }
   ],
   "source": [
    "# Example usage\n",
    "data = \"https://linktr.ee/ic2025\"  # Data to encode in the QR code\n",
    "logo_path = \"C:/Users/DELL/Desktop/VOIP_Phishing_Attacks/Model Building/speech-text-conversion/research/Logo_v6_Transparent_Huge.png\"  # Path to your logo file\n",
    "output_path = \"qr_with_logo.png\"  # Path to save the resulting QR code\n",
    "generate_qr_with_logo(data, logo_path, output_path)\n",
    "\n",
    "print(f\"QR code with logo saved to {output_path}\")"
   ]
  },
  {
   "cell_type": "code",
   "execution_count": null,
   "metadata": {},
   "outputs": [],
   "source": []
  },
  {
   "cell_type": "markdown",
   "metadata": {},
   "source": [
    "## Custom QR"
   ]
  },
  {
   "cell_type": "markdown",
   "metadata": {},
   "source": []
  },
  {
   "cell_type": "code",
   "execution_count": 12,
   "metadata": {},
   "outputs": [],
   "source": [
    "# Function to create a customized QR code\n",
    "def generate_custom_qr(data, output_path, fill_color=\"black\", back_color=\"white\", eye_color=\"blue\"):\n",
    "    # Create QR code\n",
    "    qr = qrcode.QRCode(\n",
    "        version=1,  # Adjust version for more data (1 is for small QR codes)\n",
    "        error_correction=qrcode.constants.ERROR_CORRECT_H,  # High error correction for customization\n",
    "        box_size=10,\n",
    "        border=4\n",
    "    )\n",
    "    qr.add_data(data)\n",
    "    qr.make(fit=True)\n",
    "\n",
    "    # Generate QR code image\n",
    "    qr_img = qr.make_image(fill_color=fill_color, back_color=back_color).convert(\"RGB\")\n",
    "\n",
    "    # Create a custom design for the eyes of the QR code\n",
    "    qr_width, qr_height = qr_img.size\n",
    "    draw = ImageDraw.Draw(qr_img)\n",
    "    box_size = qr_width // (qr.modules_count + 2)  # Calculate box size\n",
    "\n",
    "    # Customize the eyes (top-left, top-right, bottom-left)\n",
    "    eye_positions = [\n",
    "        (box_size, box_size, 3 * box_size, 3 * box_size),  # Top-left\n",
    "        (qr_width - 3 * box_size, box_size, qr_width - box_size, 3 * box_size),  # Top-right\n",
    "        (box_size, qr_height - 3 * box_size, 3 * box_size, qr_height - box_size)  # Bottom-left\n",
    "    ]\n",
    "\n",
    "    for eye_box in eye_positions:\n",
    "        draw.rectangle(eye_box, fill=eye_color)  # Outer eye\n",
    "        inner_box = (\n",
    "            eye_box[0] + box_size,\n",
    "            eye_box[1] + box_size,\n",
    "            eye_box[2] - box_size,\n",
    "            eye_box[3] - box_size\n",
    "        )\n",
    "        draw.rectangle(inner_box, fill=back_color)  # Inner eye\n",
    "\n",
    "    # Save the customized QR code\n",
    "    qr_img.save(output_path)\n"
   ]
  },
  {
   "cell_type": "code",
   "execution_count": 18,
   "metadata": {},
   "outputs": [
    {
     "name": "stdout",
     "output_type": "stream",
     "text": [
      "Customized QR code saved to qr_with_logo_pink.png\n"
     ]
    }
   ],
   "source": [
    "# Example usage\n",
    "data = \"https://linktr.ee/ic2025\"  # Data to encode in the QR code\n",
    "logo_path = \"C:/Users/DELL/Desktop/VOIP_Phishing_Attacks/Model Building/speech-text-conversion/research/Logo_v6_Transparent_Huge.png\"  # Path to your logo file\n",
    "output_path = \"qr_with_logo_pink.png\"  # Path to save the resulting QR code\n",
    "\n",
    "generate_custom_qr(data, output_path, fill_color=\"orange\", back_color=\"black\", eye_color=\"white\")\n",
    "\n",
    "print(f\"Customized QR code saved to {output_path}\")"
   ]
  },
  {
   "cell_type": "code",
   "execution_count": null,
   "metadata": {},
   "outputs": [],
   "source": []
  },
  {
   "cell_type": "code",
   "execution_count": null,
   "metadata": {},
   "outputs": [],
   "source": []
  },
  {
   "cell_type": "code",
   "execution_count": null,
   "metadata": {},
   "outputs": [],
   "source": []
  }
 ],
 "metadata": {
  "kernelspec": {
   "display_name": "ai-backend",
   "language": "python",
   "name": "python3"
  },
  "language_info": {
   "codemirror_mode": {
    "name": "ipython",
    "version": 3
   },
   "file_extension": ".py",
   "mimetype": "text/x-python",
   "name": "python",
   "nbconvert_exporter": "python",
   "pygments_lexer": "ipython3",
   "version": "3.9.19"
  }
 },
 "nbformat": 4,
 "nbformat_minor": 2
}
